{
  "cells": [
    {
      "cell_type": "markdown",
      "metadata": {
        "colab_type": "text",
        "id": "r2zDqNleqV8L"
      },
      "source": [
        "#**Demo: KNN Algorithm**"
      ]
    },
    {
      "cell_type": "markdown",
      "metadata": {
        "colab_type": "text",
        "id": "himFT00zqauE"
      },
      "source": [
        "##**Problem Definition**\n",
        "A flower seller in Japan has planted lots of iris plants,and now before selling he wants to classify the flowers into their species. But he don't want to invest so much time in classifying them. To automate this task, he hires you to create a model, which can predict the flowers' species by looking at the features of flower."
      ]
    },
    {
      "cell_type": "markdown",
      "metadata": {
        "colab_type": "text",
        "id": "Z_jDq2V6vP_H"
      },
      "source": [
        "##**Dataset Description**\n",
        "The dataset contains 3 different iris species: Iris-Setosa, Iris-Versicolor and Iris-Virginica. It consist of 150 samples and 4 features: sepal length, sepal width, petal length, petal width. These features will be used to predict the target variable i.e. species."
      ]
    },
    {
      "cell_type": "markdown",
      "metadata": {
        "colab_type": "text",
        "id": "NH93NsmFNgoH"
      },
      "source": [
        "##**Objective**\n",
        "\n",
        ">* **Classify:** We want to predict if the flower belongs to Iris-setosa, Iris-Virginica or  Iris-Versicolor.\n",
        ">* **Understanding KNN:** For classification here we are using knn, so let's see how knn works.\n",
        ">* **Collecting the data**\n",
        ">* **Splitting the dataset for training and testing:** Since we want to know how good our model is, we will split the main dataset into training and testing datasets. The test data will be used later for evaluating.\n",
        ">* **Implementing KNN from scratch**\n",
        ">* **Implenting KNN using sklearn**\n",
        ">* **Training the model:** We will create the model by training the algorithm on the training dataset(which contains the actual labels).\n",
        ">* **Testing the model:**  We will test the model on the test dataset to check how good our model works when it sees a new sample. \n",
        ">* **Model Performance:** We will calculate our model's performance, by comparing our predicted values with actual values."
      ]
    },
    {
      "cell_type": "markdown",
      "metadata": {
        "colab_type": "text",
        "id": "6zVdf9rml5Jb"
      },
      "source": [
        "\n",
        "\n",
        "**K-nearest neighbour** is a classification algorithm. It is a supervised machine learning algorithm, which means it requires training data.\n",
        "\n",
        "Here 'k'is the number of nearest neighbours we want to consider for predicting. It is a hyper-parameter, which means you have to try out different values of k and compare the accuracy then choose a suitable value for k.\n",
        "###**How KNN works?**\n",
        ">* Plot all the instances from training samples in a vector space.\n",
        ">* Plot the point of the query instance in that vector space. \n",
        ">* Calculate the Euclidean distance from the query instance to all the training instances and choose the k-nearest neighbours\n",
        ">> euclidean distance = $\\sum_{i=0}^n \\sqrt{(x_i-y_i)^2}$ ,\n",
        ">> where n is the number of features. \n",
        ">> x are the training instances and y is the query instance.\n",
        "\n",
        ">* Take the labels of k-nearest neighbours as per the euclidean distance.\n",
        ">* The label occuring for the highest number of time will be chosen for the query instance. This is called hard-voting.\n"
      ]
    },
    {
      "cell_type": "markdown",
      "metadata": {
        "colab_type": "text",
        "id": "dl8WuklnzXlf"
      },
      "source": [
        "### Importing the libraries"
      ]
    },
    {
      "cell_type": "code",
      "execution_count": 0,
      "metadata": {
        "colab": {},
        "colab_type": "code",
        "id": "gkyh_zbTzUl6"
      },
      "outputs": [],
      "source": [
        "#data analysis\n",
        "import pandas as pd\n",
        "import numpy as np\n",
        "\n",
        "#dataset from sklearn\n",
        "from sklearn import datasets\n",
        "#machine learning\n",
        "from sklearn.model_selection import train_test_split\n",
        "#algorithm\n",
        "from sklearn.neighbors import KNeighborsClassifier\n",
        "#metrics\n",
        "from sklearn.metrics import accuracy_score,confusion_matrix"
      ]
    },
    {
      "cell_type": "markdown",
      "metadata": {
        "colab_type": "text",
        "id": "KKPWZBbAuZ-K"
      },
      "source": [
        "### Collecting the data"
      ]
    },
    {
      "cell_type": "code",
      "execution_count": 2,
      "metadata": {
        "colab": {
          "base_uri": "https://localhost:8080/",
          "height": 51
        },
        "colab_type": "code",
        "id": "JdmfQxCzzVq0",
        "outputId": "456dcc8d-e909-4858-b73b-f907883e42f1"
      },
      "outputs": [
        {
          "name": "stdout",
          "output_type": "stream",
          "text": [
            "Features:  ['sepal length (cm)', 'sepal width (cm)', 'petal length (cm)', 'petal width (cm)']\n",
            "Labels:  ['setosa' 'versicolor' 'virginica']\n"
          ]
        }
      ],
      "source": [
        "iris_data=datasets.load_iris()\n",
        "print(\"Features: \", iris_data.feature_names)\n",
        "print(\"Labels: \", iris_data.target_names)"
      ]
    },
    {
      "cell_type": "code",
      "execution_count": 3,
      "metadata": {
        "colab": {
          "base_uri": "https://localhost:8080/",
          "height": 204
        },
        "colab_type": "code",
        "id": "NSPJKJgaz15V",
        "outputId": "498136ff-79d3-4836-9fe7-f9433dfeed35"
      },
      "outputs": [
        {
          "data": {
            "text/html": [
              "<div>\n",
              "<style scoped>\n",
              "    .dataframe tbody tr th:only-of-type {\n",
              "        vertical-align: middle;\n",
              "    }\n",
              "\n",
              "    .dataframe tbody tr th {\n",
              "        vertical-align: top;\n",
              "    }\n",
              "\n",
              "    .dataframe thead th {\n",
              "        text-align: right;\n",
              "    }\n",
              "</style>\n",
              "<table border=\"1\" class=\"dataframe\">\n",
              "  <thead>\n",
              "    <tr style=\"text-align: right;\">\n",
              "      <th></th>\n",
              "      <th>sepal length (cm)</th>\n",
              "      <th>sepal width (cm)</th>\n",
              "      <th>petal length (cm)</th>\n",
              "      <th>petal width (cm)</th>\n",
              "      <th>class</th>\n",
              "    </tr>\n",
              "  </thead>\n",
              "  <tbody>\n",
              "    <tr>\n",
              "      <th>0</th>\n",
              "      <td>5.1</td>\n",
              "      <td>3.5</td>\n",
              "      <td>1.4</td>\n",
              "      <td>0.2</td>\n",
              "      <td>0</td>\n",
              "    </tr>\n",
              "    <tr>\n",
              "      <th>1</th>\n",
              "      <td>4.9</td>\n",
              "      <td>3.0</td>\n",
              "      <td>1.4</td>\n",
              "      <td>0.2</td>\n",
              "      <td>0</td>\n",
              "    </tr>\n",
              "    <tr>\n",
              "      <th>2</th>\n",
              "      <td>4.7</td>\n",
              "      <td>3.2</td>\n",
              "      <td>1.3</td>\n",
              "      <td>0.2</td>\n",
              "      <td>0</td>\n",
              "    </tr>\n",
              "    <tr>\n",
              "      <th>3</th>\n",
              "      <td>4.6</td>\n",
              "      <td>3.1</td>\n",
              "      <td>1.5</td>\n",
              "      <td>0.2</td>\n",
              "      <td>0</td>\n",
              "    </tr>\n",
              "    <tr>\n",
              "      <th>4</th>\n",
              "      <td>5.0</td>\n",
              "      <td>3.6</td>\n",
              "      <td>1.4</td>\n",
              "      <td>0.2</td>\n",
              "      <td>0</td>\n",
              "    </tr>\n",
              "  </tbody>\n",
              "</table>\n",
              "</div>"
            ],
            "text/plain": [
              "   sepal length (cm)  sepal width (cm)  ...  petal width (cm)  class\n",
              "0                5.1               3.5  ...               0.2      0\n",
              "1                4.9               3.0  ...               0.2      0\n",
              "2                4.7               3.2  ...               0.2      0\n",
              "3                4.6               3.1  ...               0.2      0\n",
              "4                5.0               3.6  ...               0.2      0\n",
              "\n",
              "[5 rows x 5 columns]"
            ]
          },
          "execution_count": 3,
          "metadata": {
            "tags": []
          },
          "output_type": "execute_result"
        }
      ],
      "source": [
        "features=pd.DataFrame(iris_data.data)\n",
        "features.columns=iris_data.feature_names\n",
        "labels=pd.DataFrame(iris_data.target)\n",
        "labels.columns=['class']\n",
        "dataframe=pd.concat([features,labels],axis=1)\n",
        "dataframe.head()"
      ]
    },
    {
      "cell_type": "markdown",
      "metadata": {
        "colab_type": "text",
        "id": "wkWEYS0hyPf_"
      },
      "source": [
        "###**Splitting the dataset for training and testing**"
      ]
    },
    {
      "cell_type": "code",
      "execution_count": 4,
      "metadata": {
        "colab": {
          "base_uri": "https://localhost:8080/",
          "height": 85
        },
        "colab_type": "code",
        "id": "_xqtiwtayqaP",
        "outputId": "1102109a-e17b-4aec-835b-fae1bab9b74e"
      },
      "outputs": [
        {
          "name": "stdout",
          "output_type": "stream",
          "text": [
            "(120, 4)\n",
            "(30, 4)\n",
            "(120,)\n",
            "(30,)\n"
          ]
        }
      ],
      "source": [
        "X_train,X_test,y_train,y_test=train_test_split(dataframe.iloc[:,0:-1],dataframe.iloc[:,-1],test_size=0.20,random_state=3)\n",
        "print(X_train.shape)\n",
        "print(X_test.shape)\n",
        "print(y_train.shape)\n",
        "print(y_test.shape)"
      ]
    },
    {
      "cell_type": "markdown",
      "metadata": {
        "colab_type": "text",
        "id": "vvFHrjZDxTXI"
      },
      "source": [
        "##**Implementing KNN from scratch**"
      ]
    },
    {
      "cell_type": "code",
      "execution_count": 0,
      "metadata": {
        "colab": {},
        "colab_type": "code",
        "id": "2YURnprixEnL"
      },
      "outputs": [],
      "source": [
        "x1=X_train.iloc[:,0] #sepal length of X_train\n",
        "x2=X_train.iloc[:,1] #sepal width of X_train\n",
        "x3=X_train.iloc[:,2] #petal length of X_train\n",
        "x4=X_train.iloc[:,3] #petal width of X_train\n",
        "    "
      ]
    },
    {
      "cell_type": "code",
      "execution_count": 0,
      "metadata": {
        "colab": {},
        "colab_type": "code",
        "id": "QcAxpCwN9MnI"
      },
      "outputs": [],
      "source": [
        "y_pred=list()\n",
        "for a,b,c,d in zip( X_test.iloc[:,0], X_test.iloc[:,1], X_test.iloc[:,2], X_test.iloc[:,3]):   #a=sepal length of X_test, b=sepal width of X_test,c= petal length of X_test, d=petal width of X_train\n",
        "  dist=((a-x1)**2 + (b-x2)**2 + (c-x3)**2 + (d-x4)**2)**0.5 #calculating euclidean distance\n",
        "  dist=np.array(dist)\n",
        "  indexes = np.argsort(dist) #sorts the values in ascending order and return their indexes\n",
        "  k=3\n",
        "  l2=[y_train.iloc[indexes[0]],y_train.iloc[indexes[1]],y_train.iloc[indexes[2]]]   #labels of 3 nearest instances\n",
        "  y_pred.append(max(l2,key=l2.count)) #taking maximum occuring label out of 3 nearest labels\n",
        "  "
      ]
    },
    {
      "cell_type": "markdown",
      "metadata": {
        "colab_type": "text",
        "id": "RegS_Z_Mli3h"
      },
      "source": [
        "##**Evaluating our KNN model**"
      ]
    },
    {
      "cell_type": "code",
      "execution_count": 7,
      "metadata": {
        "colab": {
          "base_uri": "https://localhost:8080/",
          "height": 34
        },
        "colab_type": "code",
        "id": "PrHDLcGdEhQO",
        "outputId": "80560580-2961-4d30-d2c4-0230aa063af4"
      },
      "outputs": [
        {
          "name": "stdout",
          "output_type": "stream",
          "text": [
            "0.9666666666666667\n"
          ]
        }
      ],
      "source": [
        "print(accuracy_score(y_test,y_pred))"
      ]
    },
    {
      "cell_type": "markdown",
      "metadata": {
        "colab_type": "text",
        "id": "jkLYpe8AlutA"
      },
      "source": [
        "##**Implementing KNN using sklearn**"
      ]
    },
    {
      "cell_type": "code",
      "execution_count": 8,
      "metadata": {
        "colab": {
          "base_uri": "https://localhost:8080/",
          "height": 68
        },
        "colab_type": "code",
        "id": "DL9QRI2sR2G3",
        "outputId": "12284fe4-bba6-4d27-f200-cb9e307ebda2"
      },
      "outputs": [
        {
          "data": {
            "text/plain": [
              "KNeighborsClassifier(algorithm='auto', leaf_size=30, metric='euclidean',\n",
              "                     metric_params=None, n_jobs=None, n_neighbors=3, p=2,\n",
              "                     weights='uniform')"
            ]
          },
          "execution_count": 8,
          "metadata": {
            "tags": []
          },
          "output_type": "execute_result"
        }
      ],
      "source": [
        "model=KNeighborsClassifier(n_neighbors=3,metric='euclidean')  # here k=3\n",
        "model.fit(X_train,y_train)\n"
      ]
    },
    {
      "cell_type": "markdown",
      "metadata": {
        "colab_type": "text",
        "id": "zje9a6LMmRc_"
      },
      "source": [
        "###**Testing our model**"
      ]
    },
    {
      "cell_type": "code",
      "execution_count": 0,
      "metadata": {
        "colab": {},
        "colab_type": "code",
        "id": "-4_jDmb2mPqZ"
      },
      "outputs": [],
      "source": [
        "y_pred2=model.predict(X_test)"
      ]
    },
    {
      "cell_type": "markdown",
      "metadata": {
        "colab_type": "text",
        "id": "QWJAgqFimfUK"
      },
      "source": [
        "###**Model Performance**"
      ]
    },
    {
      "cell_type": "code",
      "execution_count": 10,
      "metadata": {
        "colab": {
          "base_uri": "https://localhost:8080/",
          "height": 34
        },
        "colab_type": "code",
        "id": "lihgbfGOSxjb",
        "outputId": "883d9b44-beed-46b7-aad3-16d7f96eefbe"
      },
      "outputs": [
        {
          "name": "stdout",
          "output_type": "stream",
          "text": [
            "0.9666666666666667\n"
          ]
        }
      ],
      "source": [
        "print(accuracy_score(y_test,y_pred2))"
      ]
    },
    {
      "cell_type": "markdown",
      "metadata": {
        "colab_type": "text",
        "id": "YGsdx9Nj-n68"
      },
      "source": [
        "We can see sklearn's and our accuracy are exactly the same and they are quite good too."
      ]
    },
    {
      "cell_type": "code",
      "execution_count": 11,
      "metadata": {
        "colab": {
          "base_uri": "https://localhost:8080/",
          "height": 68
        },
        "colab_type": "code",
        "id": "1-0Uw_jRS6gd",
        "outputId": "ea0dcb1a-f4d9-4866-acee-bdd6f9616031"
      },
      "outputs": [
        {
          "name": "stdout",
          "output_type": "stream",
          "text": [
            "[[10  0  0]\n",
            " [ 0  9  1]\n",
            " [ 0  0 10]]\n"
          ]
        }
      ],
      "source": [
        "print(confusion_matrix(y_test,y_pred2))"
      ]
    },
    {
      "cell_type": "code",
      "execution_count": 0,
      "metadata": {
        "colab": {},
        "colab_type": "code",
        "id": "_W2X4DW-mygi"
      },
      "outputs": [],
      "source": []
    }
  ],
  "metadata": {
    "colab": {
      "collapsed_sections": [],
      "name": "Demo: KNN Algorithm.ipynb",
      "provenance": []
    },
    "kernelspec": {
      "display_name": "Python 3",
      "name": "python3"
    }
  },
  "nbformat": 4,
  "nbformat_minor": 0
}
